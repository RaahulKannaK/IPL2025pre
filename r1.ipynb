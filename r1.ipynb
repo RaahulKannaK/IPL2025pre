{
 "cells": [
  {
   "cell_type": "code",
   "execution_count": 1,
   "metadata": {
    "execution": {
     "iopub.execute_input": "2025-01-30T07:03:16.922882Z",
     "iopub.status.busy": "2025-01-30T07:03:16.922882Z",
     "iopub.status.idle": "2025-01-30T07:03:17.095967Z",
     "shell.execute_reply": "2025-01-30T07:03:17.091957Z"
    }
   },
   "outputs": [
    {
     "name": "stdout",
     "output_type": "stream",
     "text": [
      "HTML file created successfully.\n"
     ]
    },
    {
     "data": {
      "text/plain": [
       "True"
      ]
     },
     "execution_count": 1,
     "metadata": {},
     "output_type": "execute_result"
    }
   ],
   "source": [
    "import webbrowser\n",
    "\n",
    "code = '''<!DOCTYPE html>\n",
    "<html lang=\"en\">\n",
    "<head>\n",
    "    <title>IPL Prediction</title>\n",
    "    <style>\n",
    "        .container {\n",
    "            text-align: center;\n",
    "            margin-top: 50px;\n",
    "        }\n",
    "        .form-container {\n",
    "            display: flex;\n",
    "            justify-content: center;\n",
    "            align-items: center;\n",
    "            gap: 50px;\n",
    "        }\n",
    "        .form-group {\n",
    "            display: flex;\n",
    "            flex-direction: column;\n",
    "            align-items: center;\n",
    "        }\n",
    "        .select-team-button {\n",
    "            margin-top: 20px;\n",
    "        }\n",
    "    </style>\n",
    "</head>\n",
    "<body>\n",
    "    <div class=\"container\">\n",
    "        <h1>Choose Two IPL Teams</h1>\n",
    "        <form id=\"team-form\">\n",
    "            <div class=\"form-container\">\n",
    "                <div class=\"form-group\">\n",
    "                    <label for=\"team2\">Second Team:</label>\n",
    "                    <select id=\"team2\">\n",
    "                        <option>mi</option>\n",
    "                        <option>dc</option>\n",
    "                        <option>csk</option>\n",
    "                        <option>RCB</option>\n",
    "                        <option>KKR</option>\n",
    "                        <option>rr</option>\n",
    "                        <option>Srh</option>\n",
    "                        <option>Pbks</option>\n",
    "                        <option>Lsg</option>\n",
    "                        <option>Gt</option>\n",
    "                    </select>\n",
    "                </div>\n",
    "\n",
    "                <div class=\"form-group\">\n",
    "                    <label for=\"team1\">First Team:</label>\n",
    "                    <select id=\"team1\">\n",
    "                        <option>mi</option>\n",
    "                        <option>dc</option>\n",
    "                        <option>csk</option>\n",
    "                        <option>RCB</option>\n",
    "                        <option>KKR</option>\n",
    "                        <option>RR</option>\n",
    "                        <option>srh</option>\n",
    "                        <option>pbks</option>\n",
    "                        <option>lsg</option>\n",
    "                        <option>gt</option>\n",
    "                    </select>\n",
    "                </div>\n",
    "            </div>\n",
    "\n",
    "            <button id=\"select-team-button\" class=\"select-team-button\">Submit</button>\n",
    "        </form>\n",
    "\n",
    "        <p id=\"selected-team\"></p>\n",
    "    </div>\n",
    "\n",
    "    <script>\n",
    "        document.getElementById('team-form').addEventListener('submit', (event) => {\n",
    "            event.preventDefault(); // Prevent form submission\n",
    "\n",
    "            let team1 = document.getElementById('team1').value;\n",
    "            let team2 = document.getElementById('team2').value;\n",
    "\n",
    "            if (team1 === team2) {\n",
    "                document.getElementById('selected-team').innerText = \"Both teams cannot be the same!\";\n",
    "            } else {\n",
    "                document.getElementById('selected-team').innerText = `You selected ${team1} and ${team2}.`;\n",
    "                fetch('http://localhost:5000/save?team1=' + team1 + '&team2=' + team2);\n",
    "            }\n",
    "        });\n",
    "    </script>\n",
    "</body>\n",
    "</html>'''\n",
    "\n",
    "# ✅ Correct File Path\n",
    "file_path = \"C:/Users/raahu/Desktop/ipl2025pre/app.html\"\n",
    "with open(file_path, 'w') as f1:\n",
    "    f1.write(code)\n",
    "\n",
    "print(\"HTML file created successfully.\")\n",
    "\n",
    "# ✅ Open in Web Browser\n",
    "webbrowser.open(file_path)\n",
    "\n"
   ]
  },
  {
   "cell_type": "code",
   "execution_count": 2,
   "metadata": {
    "execution": {
     "iopub.execute_input": "2025-01-30T07:03:17.184354Z",
     "iopub.status.busy": "2025-01-30T07:03:17.184354Z",
     "iopub.status.idle": "2025-01-30T07:03:17.210721Z",
     "shell.execute_reply": "2025-01-30T07:03:17.208670Z"
    }
   },
   "outputs": [],
   "source": [
    "import subprocess\n",
    "import asyncio\n",
    "from asyncio import WindowsSelectorEventLoopPolicy\n",
    "\n",
    "# Set event loop policy for Windows to avoid the warning\n",
    "asyncio.set_event_loop_policy(WindowsSelectorEventLoopPolicy())\n",
    "def run_notebook(notebook_path):\n",
    "        try:\n",
    "        # Command to execute the Jupyter notebook\n",
    "            cmd = [\n",
    "                \"jupyter\", \"nbconvert\",\n",
    "                \"--to\", \"notebook\",\n",
    "                \"--execute\", \n",
    "                \"--inplace\",  # Modify the existing notebook\n",
    "                notebook_path\n",
    "            ]\n",
    "        \n",
    "        # Running the command using subprocess\n",
    "            result = subprocess.run(cmd, check=True, text=True, capture_output=True)\n",
    "\n",
    "            if result.returncode == 0:\n",
    "                print(f\"Notebook {notebook_path} executed successfully.\")\n",
    "            else:\n",
    "                print(f\"Error executing notebook {notebook_path}: {result.stderr}\")\n",
    "        \n",
    "        except subprocess.CalledProcessError as e:\n",
    "            print(f\"Error while executing notebook: {e}\")\n",
    "        except FileNotFoundError:\n",
    "            print(\"Jupyter is not installed or not found in PATH.\")"
   ]
  },
  {
   "cell_type": "code",
   "execution_count": 3,
   "metadata": {
    "execution": {
     "iopub.execute_input": "2025-01-30T07:03:17.217972Z",
     "iopub.status.busy": "2025-01-30T07:03:17.215957Z",
     "iopub.status.idle": "2025-01-30T07:03:29.857526Z",
     "shell.execute_reply": "2025-01-30T07:03:29.856428Z"
    }
   },
   "outputs": [
    {
     "name": "stdout",
     "output_type": "stream",
     "text": [
      " * Serving Flask app '__main__'\n"
     ]
    },
    {
     "name": "stdout",
     "output_type": "stream",
     "text": [
      " * Debug mode: off\n"
     ]
    },
    {
     "name": "stderr",
     "output_type": "stream",
     "text": [
      "WARNING: This is a development server. Do not use it in a production deployment. Use a production WSGI server instead."
     ]
    },
    {
     "name": "stderr",
     "output_type": "stream",
     "text": [
      "\n",
      " * Running on http://127.0.0.1:5000\n"
     ]
    },
    {
     "name": "stderr",
     "output_type": "stream",
     "text": [
      "Press CTRL+C to quit"
     ]
    },
    {
     "name": "stderr",
     "output_type": "stream",
     "text": [
      "\n"
     ]
    },
    {
     "name": "stdout",
     "output_type": "stream",
     "text": [
      "Notebook C:/Users/raahu/Desktop/ipl2025pre/r2.ipynb executed successfully.\n"
     ]
    },
    {
     "name": "stdout",
     "output_type": "stream",
     "text": [
      "Notebook C:/Users/raahu/Desktop/ipl2025pre/r2.ipynb executed successfully.\n",
      "Flask server started on http://127.0.0.1:5000\n"
     ]
    }
   ],
   "source": [
    "from flask import Flask, request\n",
    "import threading\n",
    "\n",
    "app = Flask(__name__)\n",
    "\n",
    "@app.route('/save')\n",
    "def save_teams():\n",
    "    team1 = request.args.get('team1')\n",
    "    team2 = request.args.get('team2')\n",
    "    \n",
    "    # ✅ Save teams to a file\n",
    "    with open(\"C:/Users/raahu/Desktop/ipl2025pre/app.txt\", \"w\") as f:\n",
    "        f.writelines(f\"{team1},{team2}\")\n",
    "    run_notebook(\"C:/Users/raahu/Desktop/ipl2025pre/r2.ipynb\")\n",
    "\n",
    "    return \"Teams Saved\"\n",
    "\n",
    "\n",
    "def run_flask():\n",
    "    app.run(port=5000, debug=False, use_reloader=False)\n",
    "    import subprocess\n",
    "    import asyncio\n",
    "    from asyncio import WindowsSelectorEventLoopPolicy\n",
    "\n",
    "# Set event loop policy for Windows to avoid the warning\n",
    "    asyncio.set_event_loop_policy(WindowsSelectorEventLoopPolicy())\n",
    "\n",
    "\n",
    "\n",
    "# Specify the path to your .ipynb file\n",
    "    \n",
    "\n",
    "# ✅ Run Flask in a Separate Thread (So Jupyter Doesn't Block)\n",
    "flask_thread = threading.Thread(target=run_flask)\n",
    "flask_thread.start()\n",
    "run_notebook(\"C:/Users/raahu/Desktop/ipl2025pre/r2.ipynb\")\n",
    "run_notebook(\"C:/Users/raahu/Desktop/ipl2025pre/r2.ipynb\")\n",
    "print(\"Flask server started on http://127.0.0.1:5000\")\n",
    "\n",
    "\n",
    "\n",
    "  # Wait for Flask to start, adjust as needed\n",
    "\n",
    "\n",
    "\n",
    "\n"
   ]
  },
  {
   "cell_type": "code",
   "execution_count": null,
   "metadata": {
    "execution": {
     "iopub.execute_input": "2025-01-30T06:34:41.683770Z",
     "iopub.status.busy": "2025-01-30T06:34:41.682764Z",
     "iopub.status.idle": "2025-01-30T06:34:41.694991Z",
     "shell.execute_reply": "2025-01-30T06:34:41.693926Z"
    }
   },
   "outputs": [],
   "source": []
  },
  {
   "cell_type": "code",
   "execution_count": null,
   "metadata": {
    "execution": {
     "iopub.execute_input": "2025-01-30T06:34:41.698432Z",
     "iopub.status.busy": "2025-01-30T06:34:41.698432Z",
     "iopub.status.idle": "2025-01-30T06:34:41.765814Z",
     "shell.execute_reply": "2025-01-30T06:34:41.765814Z"
    }
   },
   "outputs": [],
   "source": []
  }
 ],
 "metadata": {
  "kernelspec": {
   "display_name": "Python 3",
   "language": "python",
   "name": "python3"
  },
  "language_info": {
   "codemirror_mode": {
    "name": "ipython",
    "version": 3
   },
   "file_extension": ".py",
   "mimetype": "text/x-python",
   "name": "python",
   "nbconvert_exporter": "python",
   "pygments_lexer": "ipython3",
   "version": "3.10.4"
  }
 },
 "nbformat": 4,
 "nbformat_minor": 2
}
