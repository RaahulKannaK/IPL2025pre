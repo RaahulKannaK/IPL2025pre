{
 "cells": [
  {
   "cell_type": "code",
   "execution_count": 10,
   "metadata": {
    "execution": {
     "iopub.execute_input": "2025-01-30T07:03:29.130581Z",
     "iopub.status.busy": "2025-01-30T07:03:29.130581Z",
     "iopub.status.idle": "2025-01-30T07:03:29.161152Z",
     "shell.execute_reply": "2025-01-30T07:03:29.161152Z"
    }
   },
   "outputs": [
    {
     "name": "stdout",
     "output_type": "stream",
     "text": [
      "Team1 RCB\n",
      "Team2 Lsg\n"
     ]
    }
   ],
   "source": [
    "# Cell 2: Read the teams from the downloaded file (teams.txt)\n",
    "with open('C:/Users/raahu/Desktop/ipl2025pre/app.txt', 'r') as file:\n",
    "    aa= file.read().split(',')\n",
    "\n",
    "team1, team2 = aa[0], aa[1]\n",
    "print(\"Team1\",team1)\n",
    "print(\"Team2\",team2)"
   ]
  },
  {
   "cell_type": "code",
   "execution_count": 11,
   "metadata": {
    "execution": {
     "iopub.execute_input": "2025-01-30T07:03:29.195031Z",
     "iopub.status.busy": "2025-01-30T07:03:29.195031Z",
     "iopub.status.idle": "2025-01-30T07:03:29.271567Z",
     "shell.execute_reply": "2025-01-30T07:03:29.271567Z"
    }
   },
   "outputs": [
    {
     "name": "stdout",
     "output_type": "stream",
     "text": [
      "(1, 'Virat Kohli', None)\n",
      "(2, 'P Salt', None)\n",
      "(3, 'R Patidar', None)\n",
      "(4, 'L Livingstone', None)\n",
      "(5, 'J Sharma', None)\n",
      "(6, 'K Pandya', None)\n",
      "(7, 'T David', None)\n",
      "(8, 'S Sharma', None)\n",
      "(9, 'B Kumar', None)\n",
      "(10, 'Y Dayal', None)\n",
      "(11, 'J hazlewood', None)\n",
      "(12, 'J Bethell', None)\n",
      "(13, 'D Padikkal', None)\n",
      "(14, 'Rasikh Dar', None)\n",
      "(15, 'N Thushara', None)\n",
      "successful\n"
     ]
    }
   ],
   "source": [
    "import mysql.connector as ww\n",
    "con=ww.connect(host='localhost',user='root',passwd='raahul@185',db='ragul')\n",
    "cur=con.cursor()\n",
    "cur.execute(f'select * from {aa[0]}')\n",
    "a=cur.fetchall()\n",
    "for i in a:\n",
    "    print(i)\n",
    "con.commit()\n",
    "print('successful')"
   ]
  }
 ],
 "metadata": {
  "kernelspec": {
   "display_name": "Python 3",
   "language": "python",
   "name": "python3"
  },
  "language_info": {
   "codemirror_mode": {
    "name": "ipython",
    "version": 3
   },
   "file_extension": ".py",
   "mimetype": "text/x-python",
   "name": "python",
   "nbconvert_exporter": "python",
   "pygments_lexer": "ipython3",
   "version": "3.10.4"
  }
 },
 "nbformat": 4,
 "nbformat_minor": 2
}
